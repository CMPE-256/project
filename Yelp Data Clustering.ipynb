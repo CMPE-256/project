{
 "cells": [
  {
   "cell_type": "code",
   "execution_count": 2,
   "metadata": {},
   "outputs": [],
   "source": [
    "import pandas as pd\n",
    "import matplotlib.pyplot as plt\n",
    "import numpy as np\n",
    "import scipy.cluster.hierarchy as shc\n",
    "from sklearn.cluster import AgglomerativeClustering"
   ]
  },
  {
   "cell_type": "code",
   "execution_count": 3,
   "metadata": {},
   "outputs": [],
   "source": [
    "# Sum the checkins\n",
    "businesses = pd.read_csv(\"cleaned_merged.csv\")\n",
    "businesses[businesses.columns[12:]] = businesses[businesses.columns[12:]].fillna(value=0)\n",
    "for x in range(0, 24):\n",
    "    businesses['time.' + str(x)] = businesses['time.Mon-' + str(x)] + businesses['time.Tue-' + str(x)] + businesses['time.Wed-' + str(x)] + businesses['time.Thu-' + str(x)] + businesses['time.Fri-' + str(x)]+ businesses['time.Sat-' + str(x)] + businesses['time.Sun-' + str(x)]\n",
    "businesses.drop(businesses.columns[12:180], axis=1, inplace=True)\n",
    "businesses.drop(['NA'], axis=1, inplace=True)\n",
    "    "
   ]
  },
  {
   "cell_type": "code",
   "execution_count": 4,
   "metadata": {},
   "outputs": [
    {
     "data": {
      "text/html": [
       "<div>\n",
       "<style scoped>\n",
       "    .dataframe tbody tr th:only-of-type {\n",
       "        vertical-align: middle;\n",
       "    }\n",
       "\n",
       "    .dataframe tbody tr th {\n",
       "        vertical-align: top;\n",
       "    }\n",
       "\n",
       "    .dataframe thead th {\n",
       "        text-align: right;\n",
       "    }\n",
       "</style>\n",
       "<table border=\"1\" class=\"dataframe\">\n",
       "  <thead>\n",
       "    <tr style=\"text-align: right;\">\n",
       "      <th></th>\n",
       "      <th>business_id</th>\n",
       "      <th>address</th>\n",
       "      <th>attributes.RestaurantsPriceRange2</th>\n",
       "      <th>categories</th>\n",
       "      <th>city</th>\n",
       "      <th>latitude</th>\n",
       "      <th>longitude</th>\n",
       "      <th>name</th>\n",
       "      <th>postal_code</th>\n",
       "      <th>review_count</th>\n",
       "      <th>...</th>\n",
       "      <th>time.14</th>\n",
       "      <th>time.15</th>\n",
       "      <th>time.16</th>\n",
       "      <th>time.17</th>\n",
       "      <th>time.18</th>\n",
       "      <th>time.19</th>\n",
       "      <th>time.20</th>\n",
       "      <th>time.21</th>\n",
       "      <th>time.22</th>\n",
       "      <th>time.23</th>\n",
       "    </tr>\n",
       "  </thead>\n",
       "  <tbody>\n",
       "    <tr>\n",
       "      <th>0</th>\n",
       "      <td>__8j8yhsmE98wNWHJNyAgw</td>\n",
       "      <td>254 Adelaide Street W</td>\n",
       "      <td>2</td>\n",
       "      <td>Restaurants, Sushi Bars, Japanese</td>\n",
       "      <td>Toronto</td>\n",
       "      <td>43.648231</td>\n",
       "      <td>-79.389256</td>\n",
       "      <td>Urawa Sushi</td>\n",
       "      <td>M5H 1X6</td>\n",
       "      <td>81</td>\n",
       "      <td>...</td>\n",
       "      <td>0.0</td>\n",
       "      <td>2.0</td>\n",
       "      <td>15.0</td>\n",
       "      <td>6.0</td>\n",
       "      <td>7.0</td>\n",
       "      <td>3.0</td>\n",
       "      <td>6.0</td>\n",
       "      <td>10.0</td>\n",
       "      <td>3.0</td>\n",
       "      <td>13.0</td>\n",
       "    </tr>\n",
       "    <tr>\n",
       "      <th>1</th>\n",
       "      <td>__fMLrmv9M1_W4kBvR2VnQ</td>\n",
       "      <td>1212 Nevada Hwy</td>\n",
       "      <td>1</td>\n",
       "      <td>Restaurants, Fast Food, Ice Cream &amp; Frozen Yog...</td>\n",
       "      <td>Boulder City</td>\n",
       "      <td>35.972074</td>\n",
       "      <td>-114.849956</td>\n",
       "      <td>Dairy Queen</td>\n",
       "      <td>89005</td>\n",
       "      <td>19</td>\n",
       "      <td>...</td>\n",
       "      <td>0.0</td>\n",
       "      <td>1.0</td>\n",
       "      <td>0.0</td>\n",
       "      <td>1.0</td>\n",
       "      <td>2.0</td>\n",
       "      <td>3.0</td>\n",
       "      <td>9.0</td>\n",
       "      <td>12.0</td>\n",
       "      <td>11.0</td>\n",
       "      <td>11.0</td>\n",
       "    </tr>\n",
       "    <tr>\n",
       "      <th>2</th>\n",
       "      <td>__fyRzU8kL6HkVV3wgxfmQ</td>\n",
       "      <td>5171 Avenue du Parc</td>\n",
       "      <td>2</td>\n",
       "      <td>Cabaret, Bars, Nightlife, Barbeque, Restaurant...</td>\n",
       "      <td>Montréal</td>\n",
       "      <td>45.520384</td>\n",
       "      <td>-73.597114</td>\n",
       "      <td>Mademoiselle Urban Restobar</td>\n",
       "      <td>H2V 4G3</td>\n",
       "      <td>6</td>\n",
       "      <td>...</td>\n",
       "      <td>0.0</td>\n",
       "      <td>0.0</td>\n",
       "      <td>0.0</td>\n",
       "      <td>0.0</td>\n",
       "      <td>0.0</td>\n",
       "      <td>1.0</td>\n",
       "      <td>2.0</td>\n",
       "      <td>0.0</td>\n",
       "      <td>2.0</td>\n",
       "      <td>2.0</td>\n",
       "    </tr>\n",
       "    <tr>\n",
       "      <th>3</th>\n",
       "      <td>__IFWGnWgMJV-55JIQfzjw</td>\n",
       "      <td>1951 S Signal Butte Rd</td>\n",
       "      <td>2</td>\n",
       "      <td>Nightlife, Tex-Mex, Restaurants, American (Tra...</td>\n",
       "      <td>Mesa</td>\n",
       "      <td>33.379586</td>\n",
       "      <td>-111.601235</td>\n",
       "      <td>Chili's</td>\n",
       "      <td>85209</td>\n",
       "      <td>100</td>\n",
       "      <td>...</td>\n",
       "      <td>0.0</td>\n",
       "      <td>0.0</td>\n",
       "      <td>0.0</td>\n",
       "      <td>3.0</td>\n",
       "      <td>21.0</td>\n",
       "      <td>37.0</td>\n",
       "      <td>30.0</td>\n",
       "      <td>22.0</td>\n",
       "      <td>16.0</td>\n",
       "      <td>27.0</td>\n",
       "    </tr>\n",
       "    <tr>\n",
       "      <th>4</th>\n",
       "      <td>__iqJ91sPngnwEa3nIQP8Q</td>\n",
       "      <td>5 Rue Morley</td>\n",
       "      <td>2</td>\n",
       "      <td>Canadian (New), Portuguese, Restaurants</td>\n",
       "      <td>Greenfield Park</td>\n",
       "      <td>45.478104</td>\n",
       "      <td>-73.475822</td>\n",
       "      <td>Bocado Grill</td>\n",
       "      <td>J4V 2Y8</td>\n",
       "      <td>12</td>\n",
       "      <td>...</td>\n",
       "      <td>0.0</td>\n",
       "      <td>0.0</td>\n",
       "      <td>0.0</td>\n",
       "      <td>0.0</td>\n",
       "      <td>0.0</td>\n",
       "      <td>0.0</td>\n",
       "      <td>1.0</td>\n",
       "      <td>2.0</td>\n",
       "      <td>5.0</td>\n",
       "      <td>2.0</td>\n",
       "    </tr>\n",
       "  </tbody>\n",
       "</table>\n",
       "<p>5 rows × 35 columns</p>\n",
       "</div>"
      ],
      "text/plain": [
       "              business_id                 address  \\\n",
       "0  __8j8yhsmE98wNWHJNyAgw   254 Adelaide Street W   \n",
       "1  __fMLrmv9M1_W4kBvR2VnQ         1212 Nevada Hwy   \n",
       "2  __fyRzU8kL6HkVV3wgxfmQ     5171 Avenue du Parc   \n",
       "3  __IFWGnWgMJV-55JIQfzjw  1951 S Signal Butte Rd   \n",
       "4  __iqJ91sPngnwEa3nIQP8Q            5 Rue Morley   \n",
       "\n",
       "   attributes.RestaurantsPriceRange2  \\\n",
       "0                                  2   \n",
       "1                                  1   \n",
       "2                                  2   \n",
       "3                                  2   \n",
       "4                                  2   \n",
       "\n",
       "                                          categories             city  \\\n",
       "0                  Restaurants, Sushi Bars, Japanese          Toronto   \n",
       "1  Restaurants, Fast Food, Ice Cream & Frozen Yog...     Boulder City   \n",
       "2  Cabaret, Bars, Nightlife, Barbeque, Restaurant...         Montréal   \n",
       "3  Nightlife, Tex-Mex, Restaurants, American (Tra...             Mesa   \n",
       "4            Canadian (New), Portuguese, Restaurants  Greenfield Park   \n",
       "\n",
       "    latitude   longitude                         name postal_code  \\\n",
       "0  43.648231  -79.389256                  Urawa Sushi     M5H 1X6   \n",
       "1  35.972074 -114.849956                  Dairy Queen       89005   \n",
       "2  45.520384  -73.597114  Mademoiselle Urban Restobar     H2V 4G3   \n",
       "3  33.379586 -111.601235                      Chili's       85209   \n",
       "4  45.478104  -73.475822                 Bocado Grill     J4V 2Y8   \n",
       "\n",
       "   review_count   ...     time.14  time.15  time.16  time.17  time.18  \\\n",
       "0            81   ...         0.0      2.0     15.0      6.0      7.0   \n",
       "1            19   ...         0.0      1.0      0.0      1.0      2.0   \n",
       "2             6   ...         0.0      0.0      0.0      0.0      0.0   \n",
       "3           100   ...         0.0      0.0      0.0      3.0     21.0   \n",
       "4            12   ...         0.0      0.0      0.0      0.0      0.0   \n",
       "\n",
       "   time.19  time.20  time.21  time.22  time.23  \n",
       "0      3.0      6.0     10.0      3.0     13.0  \n",
       "1      3.0      9.0     12.0     11.0     11.0  \n",
       "2      1.0      2.0      0.0      2.0      2.0  \n",
       "3     37.0     30.0     22.0     16.0     27.0  \n",
       "4      0.0      1.0      2.0      5.0      2.0  \n",
       "\n",
       "[5 rows x 35 columns]"
      ]
     },
     "execution_count": 4,
     "metadata": {},
     "output_type": "execute_result"
    }
   ],
   "source": [
    "businesses.head()"
   ]
  },
  {
   "cell_type": "code",
   "execution_count": 5,
   "metadata": {},
   "outputs": [],
   "source": [
    "businesses.to_csv('cleaned_checkin', encoding='utf-8', index=False)"
   ]
  },
  {
   "cell_type": "code",
   "execution_count": 6,
   "metadata": {},
   "outputs": [],
   "source": [
    "ClusterDF = businesses.drop(businesses.columns[1:11], axis=1)\n",
    "ClusterDF = ClusterDF.set_index('business_id').stack().rename_axis(('business_id','time')).reset_index().rename(columns={0:'check_in_count'})\n",
    "ClusterDF['time'] = ClusterDF['time'].str.replace('time.', '')\n",
    "ClusterDF[['time', 'check_in_count']] = ClusterDF[['time', 'check_in_count']].astype(int)"
   ]
  },
  {
   "cell_type": "code",
   "execution_count": 7,
   "metadata": {},
   "outputs": [
    {
     "data": {
      "text/html": [
       "<div>\n",
       "<style scoped>\n",
       "    .dataframe tbody tr th:only-of-type {\n",
       "        vertical-align: middle;\n",
       "    }\n",
       "\n",
       "    .dataframe tbody tr th {\n",
       "        vertical-align: top;\n",
       "    }\n",
       "\n",
       "    .dataframe thead th {\n",
       "        text-align: right;\n",
       "    }\n",
       "</style>\n",
       "<table border=\"1\" class=\"dataframe\">\n",
       "  <thead>\n",
       "    <tr style=\"text-align: right;\">\n",
       "      <th></th>\n",
       "      <th>business_id</th>\n",
       "      <th>time</th>\n",
       "      <th>check_in_count</th>\n",
       "    </tr>\n",
       "  </thead>\n",
       "  <tbody>\n",
       "    <tr>\n",
       "      <th>0</th>\n",
       "      <td>__8j8yhsmE98wNWHJNyAgw</td>\n",
       "      <td>0</td>\n",
       "      <td>7</td>\n",
       "    </tr>\n",
       "    <tr>\n",
       "      <th>1</th>\n",
       "      <td>__8j8yhsmE98wNWHJNyAgw</td>\n",
       "      <td>1</td>\n",
       "      <td>2</td>\n",
       "    </tr>\n",
       "    <tr>\n",
       "      <th>2</th>\n",
       "      <td>__8j8yhsmE98wNWHJNyAgw</td>\n",
       "      <td>2</td>\n",
       "      <td>1</td>\n",
       "    </tr>\n",
       "    <tr>\n",
       "      <th>3</th>\n",
       "      <td>__8j8yhsmE98wNWHJNyAgw</td>\n",
       "      <td>3</td>\n",
       "      <td>0</td>\n",
       "    </tr>\n",
       "    <tr>\n",
       "      <th>4</th>\n",
       "      <td>__8j8yhsmE98wNWHJNyAgw</td>\n",
       "      <td>4</td>\n",
       "      <td>0</td>\n",
       "    </tr>\n",
       "  </tbody>\n",
       "</table>\n",
       "</div>"
      ],
      "text/plain": [
       "              business_id  time  check_in_count\n",
       "0  __8j8yhsmE98wNWHJNyAgw     0               7\n",
       "1  __8j8yhsmE98wNWHJNyAgw     1               2\n",
       "2  __8j8yhsmE98wNWHJNyAgw     2               1\n",
       "3  __8j8yhsmE98wNWHJNyAgw     3               0\n",
       "4  __8j8yhsmE98wNWHJNyAgw     4               0"
      ]
     },
     "execution_count": 7,
     "metadata": {},
     "output_type": "execute_result"
    }
   ],
   "source": [
    "ClusterDF.head()"
   ]
  },
  {
   "cell_type": "code",
   "execution_count": 8,
   "metadata": {},
   "outputs": [],
   "source": [
    "ClusterDF.to_csv('checkincount_time_byid.csv', encoding='utf-8', index=False)"
   ]
  },
  {
   "cell_type": "code",
   "execution_count": 9,
   "metadata": {},
   "outputs": [],
   "source": [
    "X = np.array(ClusterDF[['time','check_in_count']])"
   ]
  },
  {
   "cell_type": "code",
   "execution_count": 10,
   "metadata": {},
   "outputs": [
    {
     "data": {
      "text/plain": [
       "3599"
      ]
     },
     "execution_count": 10,
     "metadata": {},
     "output_type": "execute_result"
    }
   ],
   "source": [
    "ClusterDF['check_in_count'].max()"
   ]
  },
  {
   "cell_type": "markdown",
   "metadata": {},
   "source": [
    "# K-means Clustering"
   ]
  },
  {
   "cell_type": "code",
   "execution_count": 14,
   "metadata": {},
   "outputs": [
    {
     "data": {
      "text/plain": [
       "KMeans(algorithm='auto', copy_x=True, init='k-means++', max_iter=300,\n",
       "    n_clusters=5, n_init=10, n_jobs=1, precompute_distances='auto',\n",
       "    random_state=None, tol=0.0001, verbose=0)"
      ]
     },
     "execution_count": 14,
     "metadata": {},
     "output_type": "execute_result"
    }
   ],
   "source": [
    "from sklearn.cluster import KMeans\n",
    "\n",
    "kmeans = KMeans(n_clusters=5)\n",
    "kmeans.fit(X)"
   ]
  },
  {
   "cell_type": "code",
   "execution_count": 15,
   "metadata": {},
   "outputs": [],
   "source": [
    "labels = kmeans.predict(X)\n",
    "centroids = kmeans.cluster_centers_"
   ]
  },
  {
   "cell_type": "code",
   "execution_count": 16,
   "metadata": {},
   "outputs": [
    {
     "data": {
      "image/png": "[encoded data removed]",
      "text/plain": [
       "<Figure size 432x288 with 1 Axes>"
      ]
     },
     "metadata": {},
     "output_type": "display_data"
    }
   ],
   "source": [
    "plt.scatter(X[:,0], X[:,1], c=kmeans.labels_, cmap='rainbow')    \n",
    "plt.scatter(kmeans.cluster_centers_[:,0] ,kmeans.cluster_centers_[:,1], color='black') \n",
    "plt.show()"
   ]
  },
  {
   "cell_type": "code",
   "execution_count": null,
   "metadata": {},
   "outputs": [],
   "source": []
  }
 ],
 "metadata": {
  "kernelspec": {
   "display_name": "Python 3",
   "language": "python",
   "name": "python3"
  },
  "language_info": {
   "codemirror_mode": {
    "name": "ipython",
    "version": 3
   },
   "file_extension": ".py",
   "mimetype": "text/x-python",
   "name": "python",
   "nbconvert_exporter": "python",
   "pygments_lexer": "ipython3",
   "version": "3.6.5"
  }
 },
 "nbformat": 4,
 "nbformat_minor": 2
}
